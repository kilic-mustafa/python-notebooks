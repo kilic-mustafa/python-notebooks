{
 "cells": [
  {
   "cell_type": "code",
   "execution_count": 1,
   "id": "7820371e-db7d-4e57-a7ab-7050c3091b08",
   "metadata": {},
   "outputs": [
    {
     "name": "stdout",
     "output_type": "stream",
     "text": [
      "Defaulting to user installation because normal site-packages is not writeable\n",
      "Requirement already satisfied: numpy in c:\\programdata\\anaconda3\\lib\\site-packages (1.26.4)\n",
      "Note: you may need to restart the kernel to use updated packages.\n"
     ]
    }
   ],
   "source": [
    "pip install numpy"
   ]
  },
  {
   "cell_type": "code",
   "execution_count": 2,
   "id": "a2489dfe-3d2e-4819-9fbc-904f921dafb7",
   "metadata": {},
   "outputs": [],
   "source": [
    "import numpy as np"
   ]
  },
  {
   "cell_type": "code",
   "execution_count": 3,
   "id": "c95b79d3-75f2-4de3-9304-1bfb2b0125d2",
   "metadata": {},
   "outputs": [],
   "source": [
    "#numpy array"
   ]
  },
  {
   "cell_type": "code",
   "execution_count": 4,
   "id": "e39785f8-9346-4007-9eaf-565e12b90530",
   "metadata": {},
   "outputs": [],
   "source": [
    "my_list = [10,20,30,40]"
   ]
  },
  {
   "cell_type": "code",
   "execution_count": 5,
   "id": "8719158e-9d6a-4fea-8aa5-39acffd59fbe",
   "metadata": {},
   "outputs": [
    {
     "data": {
      "text/plain": [
       "list"
      ]
     },
     "execution_count": 5,
     "metadata": {},
     "output_type": "execute_result"
    }
   ],
   "source": [
    "type(my_list)"
   ]
  },
  {
   "cell_type": "code",
   "execution_count": 6,
   "id": "3cd9cfa0-a020-4f2c-aa3b-98f65d57735a",
   "metadata": {},
   "outputs": [
    {
     "data": {
      "text/plain": [
       "array([10, 20, 30, 40])"
      ]
     },
     "execution_count": 6,
     "metadata": {},
     "output_type": "execute_result"
    }
   ],
   "source": [
    "np.array(my_list)"
   ]
  },
  {
   "cell_type": "code",
   "execution_count": 7,
   "id": "d18b9413-fb28-4e85-a7e2-b208685e1284",
   "metadata": {},
   "outputs": [],
   "source": [
    "my_numpy_array = np.array(my_list)"
   ]
  },
  {
   "cell_type": "code",
   "execution_count": 8,
   "id": "5e2973b2-f8bf-46a8-89ad-b4c0d31a64b4",
   "metadata": {},
   "outputs": [
    {
     "data": {
      "text/plain": [
       "numpy.ndarray"
      ]
     },
     "execution_count": 8,
     "metadata": {},
     "output_type": "execute_result"
    }
   ],
   "source": [
    "type(my_numpy_array)"
   ]
  },
  {
   "cell_type": "code",
   "execution_count": 9,
   "id": "cf7df6bb-6bef-4db1-ad76-f6c82ab13eff",
   "metadata": {},
   "outputs": [
    {
     "data": {
      "text/plain": [
       "array([10, 20, 30, 40])"
      ]
     },
     "execution_count": 9,
     "metadata": {},
     "output_type": "execute_result"
    }
   ],
   "source": [
    "my_numpy_array"
   ]
  },
  {
   "cell_type": "code",
   "execution_count": 10,
   "id": "097d6279-2574-4781-a75a-ff1b56c2370d",
   "metadata": {},
   "outputs": [
    {
     "data": {
      "text/plain": [
       "10"
      ]
     },
     "execution_count": 10,
     "metadata": {},
     "output_type": "execute_result"
    }
   ],
   "source": [
    "my_numpy_array[0]"
   ]
  },
  {
   "cell_type": "code",
   "execution_count": 11,
   "id": "9c854513-b41b-4629-bdf4-65241637315d",
   "metadata": {},
   "outputs": [
    {
     "data": {
      "text/plain": [
       "40"
      ]
     },
     "execution_count": 11,
     "metadata": {},
     "output_type": "execute_result"
    }
   ],
   "source": [
    "my_numpy_array[-1]"
   ]
  },
  {
   "cell_type": "code",
   "execution_count": 12,
   "id": "8efdbf7a-b3bf-4061-88c2-831a75bcc76c",
   "metadata": {},
   "outputs": [],
   "source": [
    "my_numpy_array[0] = 100"
   ]
  },
  {
   "cell_type": "code",
   "execution_count": 13,
   "id": "7f823fcf-617d-40c1-a9d6-1b7ae59297bb",
   "metadata": {},
   "outputs": [
    {
     "data": {
      "text/plain": [
       "array([100,  20,  30,  40])"
      ]
     },
     "execution_count": 13,
     "metadata": {},
     "output_type": "execute_result"
    }
   ],
   "source": [
    "my_numpy_array"
   ]
  },
  {
   "cell_type": "code",
   "execution_count": 14,
   "id": "f2c1c1ee-46cc-4cd6-978c-8de72c8e03e2",
   "metadata": {},
   "outputs": [
    {
     "data": {
      "text/plain": [
       "100"
      ]
     },
     "execution_count": 14,
     "metadata": {},
     "output_type": "execute_result"
    }
   ],
   "source": [
    "my_numpy_array.max()"
   ]
  },
  {
   "cell_type": "code",
   "execution_count": 15,
   "id": "e3bca9d5-0436-4d0f-8002-778b4dd0c080",
   "metadata": {},
   "outputs": [
    {
     "data": {
      "text/plain": [
       "20"
      ]
     },
     "execution_count": 15,
     "metadata": {},
     "output_type": "execute_result"
    }
   ],
   "source": [
    "my_numpy_array.min()"
   ]
  },
  {
   "cell_type": "code",
   "execution_count": 16,
   "id": "12d95c3e-6e74-4de5-8310-fa2d7f22e943",
   "metadata": {},
   "outputs": [
    {
     "data": {
      "text/plain": [
       "47.5"
      ]
     },
     "execution_count": 16,
     "metadata": {},
     "output_type": "execute_result"
    }
   ],
   "source": [
    "my_numpy_array.mean()"
   ]
  },
  {
   "cell_type": "code",
   "execution_count": 17,
   "id": "be61ecdd-7c88-4e9d-a824-c41466bb3cf0",
   "metadata": {},
   "outputs": [],
   "source": [
    "matrix_list = [[1,0,0],[0,1,0],[0,0,1],[0,0,0]]"
   ]
  },
  {
   "cell_type": "code",
   "execution_count": 18,
   "id": "ab249082-4ce6-4d77-a19e-10ab5bde5540",
   "metadata": {},
   "outputs": [
    {
     "data": {
      "text/plain": [
       "list"
      ]
     },
     "execution_count": 18,
     "metadata": {},
     "output_type": "execute_result"
    }
   ],
   "source": [
    "type(matrix_list)"
   ]
  },
  {
   "cell_type": "code",
   "execution_count": 19,
   "id": "53a59707-819b-4116-916a-8c9707c00d8f",
   "metadata": {},
   "outputs": [
    {
     "data": {
      "text/plain": [
       "1"
      ]
     },
     "execution_count": 19,
     "metadata": {},
     "output_type": "execute_result"
    }
   ],
   "source": [
    "matrix_list[0][0]"
   ]
  },
  {
   "cell_type": "code",
   "execution_count": 20,
   "id": "aa47008d-86a3-44c1-b80b-c2ad1161e0ca",
   "metadata": {},
   "outputs": [],
   "source": [
    "numpy_matrix_list = np.array(matrix_list)"
   ]
  },
  {
   "cell_type": "code",
   "execution_count": 21,
   "id": "d71dbd61-27c4-4088-9b67-c02a8e51c4e5",
   "metadata": {},
   "outputs": [
    {
     "data": {
      "text/plain": [
       "array([[1, 0, 0],\n",
       "       [0, 1, 0],\n",
       "       [0, 0, 1],\n",
       "       [0, 0, 0]])"
      ]
     },
     "execution_count": 21,
     "metadata": {},
     "output_type": "execute_result"
    }
   ],
   "source": [
    "numpy_matrix_list"
   ]
  },
  {
   "cell_type": "code",
   "execution_count": 22,
   "id": "ff2cfbfc-8415-46c7-8401-160cfec35d29",
   "metadata": {},
   "outputs": [
    {
     "data": {
      "text/plain": [
       "array([1, 0, 0])"
      ]
     },
     "execution_count": 22,
     "metadata": {},
     "output_type": "execute_result"
    }
   ],
   "source": [
    "numpy_matrix_list[0]"
   ]
  },
  {
   "cell_type": "code",
   "execution_count": 23,
   "id": "e0c4d660-e5e4-422f-920e-33e1d69dff0c",
   "metadata": {},
   "outputs": [
    {
     "data": {
      "text/plain": [
       "1"
      ]
     },
     "execution_count": 23,
     "metadata": {},
     "output_type": "execute_result"
    }
   ],
   "source": [
    "numpy_matrix_list[0][0]"
   ]
  },
  {
   "cell_type": "code",
   "execution_count": 24,
   "id": "a23b2708-7ace-4910-b0d5-5224d51c3817",
   "metadata": {},
   "outputs": [
    {
     "data": {
      "text/plain": [
       "(4, 3)"
      ]
     },
     "execution_count": 24,
     "metadata": {},
     "output_type": "execute_result"
    }
   ],
   "source": [
    "numpy_matrix_list.shape"
   ]
  },
  {
   "cell_type": "code",
   "execution_count": 25,
   "id": "570db59a-f044-4c99-9ba8-e27716c6dd04",
   "metadata": {},
   "outputs": [],
   "source": [
    "#arrange"
   ]
  },
  {
   "cell_type": "code",
   "execution_count": 26,
   "id": "d880866b-ba81-4987-bd99-a841ee56268c",
   "metadata": {},
   "outputs": [
    {
     "data": {
      "text/plain": [
       "range(0, 10)"
      ]
     },
     "execution_count": 26,
     "metadata": {},
     "output_type": "execute_result"
    }
   ],
   "source": [
    "range(0,10)"
   ]
  },
  {
   "cell_type": "code",
   "execution_count": 27,
   "id": "75db3d16-040d-4e8e-8211-daace3989fc0",
   "metadata": {},
   "outputs": [
    {
     "data": {
      "text/plain": [
       "[0, 1, 2, 3, 4, 5, 6, 7, 8, 9]"
      ]
     },
     "execution_count": 27,
     "metadata": {},
     "output_type": "execute_result"
    }
   ],
   "source": [
    "list(range(0,10))"
   ]
  },
  {
   "cell_type": "code",
   "execution_count": 28,
   "id": "c1ec6dee-5cf7-4c85-828f-747542f58f60",
   "metadata": {},
   "outputs": [
    {
     "data": {
      "text/plain": [
       "array([0, 1, 2, 3, 4, 5, 6, 7, 8, 9])"
      ]
     },
     "execution_count": 28,
     "metadata": {},
     "output_type": "execute_result"
    }
   ],
   "source": [
    "np.arange(0,10)"
   ]
  },
  {
   "cell_type": "code",
   "execution_count": 29,
   "id": "ffa9e23e-adf7-4d9c-a0ee-4f7b028c91ce",
   "metadata": {},
   "outputs": [
    {
     "data": {
      "text/plain": [
       "array([ 0,  2,  4,  6,  8, 10, 12, 14, 16, 18, 20, 22, 24, 26, 28])"
      ]
     },
     "execution_count": 29,
     "metadata": {},
     "output_type": "execute_result"
    }
   ],
   "source": [
    "np.arange(0,30,2)"
   ]
  },
  {
   "cell_type": "code",
   "execution_count": 30,
   "id": "dccc1c9e-2003-4a7f-b454-4e9ee18cde10",
   "metadata": {},
   "outputs": [
    {
     "data": {
      "text/plain": [
       "array([0., 0., 0., 0., 0., 0., 0., 0., 0., 0.])"
      ]
     },
     "execution_count": 30,
     "metadata": {},
     "output_type": "execute_result"
    }
   ],
   "source": [
    "np.zeros(10)"
   ]
  },
  {
   "cell_type": "code",
   "execution_count": 31,
   "id": "9a163f2c-3220-4a26-8667-c155dd01c4d7",
   "metadata": {},
   "outputs": [
    {
     "data": {
      "text/plain": [
       "array([[0., 0., 0., 0., 0., 0., 0., 0., 0., 0.],\n",
       "       [0., 0., 0., 0., 0., 0., 0., 0., 0., 0.],\n",
       "       [0., 0., 0., 0., 0., 0., 0., 0., 0., 0.],\n",
       "       [0., 0., 0., 0., 0., 0., 0., 0., 0., 0.],\n",
       "       [0., 0., 0., 0., 0., 0., 0., 0., 0., 0.],\n",
       "       [0., 0., 0., 0., 0., 0., 0., 0., 0., 0.],\n",
       "       [0., 0., 0., 0., 0., 0., 0., 0., 0., 0.],\n",
       "       [0., 0., 0., 0., 0., 0., 0., 0., 0., 0.],\n",
       "       [0., 0., 0., 0., 0., 0., 0., 0., 0., 0.],\n",
       "       [0., 0., 0., 0., 0., 0., 0., 0., 0., 0.]])"
      ]
     },
     "execution_count": 31,
     "metadata": {},
     "output_type": "execute_result"
    }
   ],
   "source": [
    "np.zeros((10,10))"
   ]
  },
  {
   "cell_type": "code",
   "execution_count": 32,
   "id": "65f3aa5f-7b73-47c4-a7ae-7a761634f846",
   "metadata": {},
   "outputs": [
    {
     "data": {
      "text/plain": [
       "array([[1., 1., 1., 1., 1., 1., 1., 1., 1., 1.],\n",
       "       [1., 1., 1., 1., 1., 1., 1., 1., 1., 1.],\n",
       "       [1., 1., 1., 1., 1., 1., 1., 1., 1., 1.],\n",
       "       [1., 1., 1., 1., 1., 1., 1., 1., 1., 1.],\n",
       "       [1., 1., 1., 1., 1., 1., 1., 1., 1., 1.],\n",
       "       [1., 1., 1., 1., 1., 1., 1., 1., 1., 1.],\n",
       "       [1., 1., 1., 1., 1., 1., 1., 1., 1., 1.],\n",
       "       [1., 1., 1., 1., 1., 1., 1., 1., 1., 1.],\n",
       "       [1., 1., 1., 1., 1., 1., 1., 1., 1., 1.],\n",
       "       [1., 1., 1., 1., 1., 1., 1., 1., 1., 1.]])"
      ]
     },
     "execution_count": 32,
     "metadata": {},
     "output_type": "execute_result"
    }
   ],
   "source": [
    "np.ones((10,10))"
   ]
  },
  {
   "cell_type": "code",
   "execution_count": 33,
   "id": "3c92803b-fecb-4b06-93b9-14475ea0a333",
   "metadata": {},
   "outputs": [],
   "source": [
    "#linspace"
   ]
  },
  {
   "cell_type": "code",
   "execution_count": 34,
   "id": "f8896aec-3f9e-463b-91db-dd05f2232a76",
   "metadata": {},
   "outputs": [
    {
     "data": {
      "text/plain": [
       "array([ 0.        ,  0.1010101 ,  0.2020202 ,  0.3030303 ,  0.4040404 ,\n",
       "        0.50505051,  0.60606061,  0.70707071,  0.80808081,  0.90909091,\n",
       "        1.01010101,  1.11111111,  1.21212121,  1.31313131,  1.41414141,\n",
       "        1.51515152,  1.61616162,  1.71717172,  1.81818182,  1.91919192,\n",
       "        2.02020202,  2.12121212,  2.22222222,  2.32323232,  2.42424242,\n",
       "        2.52525253,  2.62626263,  2.72727273,  2.82828283,  2.92929293,\n",
       "        3.03030303,  3.13131313,  3.23232323,  3.33333333,  3.43434343,\n",
       "        3.53535354,  3.63636364,  3.73737374,  3.83838384,  3.93939394,\n",
       "        4.04040404,  4.14141414,  4.24242424,  4.34343434,  4.44444444,\n",
       "        4.54545455,  4.64646465,  4.74747475,  4.84848485,  4.94949495,\n",
       "        5.05050505,  5.15151515,  5.25252525,  5.35353535,  5.45454545,\n",
       "        5.55555556,  5.65656566,  5.75757576,  5.85858586,  5.95959596,\n",
       "        6.06060606,  6.16161616,  6.26262626,  6.36363636,  6.46464646,\n",
       "        6.56565657,  6.66666667,  6.76767677,  6.86868687,  6.96969697,\n",
       "        7.07070707,  7.17171717,  7.27272727,  7.37373737,  7.47474747,\n",
       "        7.57575758,  7.67676768,  7.77777778,  7.87878788,  7.97979798,\n",
       "        8.08080808,  8.18181818,  8.28282828,  8.38383838,  8.48484848,\n",
       "        8.58585859,  8.68686869,  8.78787879,  8.88888889,  8.98989899,\n",
       "        9.09090909,  9.19191919,  9.29292929,  9.39393939,  9.49494949,\n",
       "        9.5959596 ,  9.6969697 ,  9.7979798 ,  9.8989899 , 10.        ])"
      ]
     },
     "execution_count": 34,
     "metadata": {},
     "output_type": "execute_result"
    }
   ],
   "source": [
    "np.linspace(0,10,100)"
   ]
  },
  {
   "cell_type": "code",
   "execution_count": 35,
   "id": "758ea585-9c0d-4288-804b-10b3f3cc49b6",
   "metadata": {},
   "outputs": [],
   "source": [
    "#random"
   ]
  },
  {
   "cell_type": "code",
   "execution_count": 36,
   "id": "42b5388c-c9ef-4e10-b919-73516b3f8ba4",
   "metadata": {},
   "outputs": [
    {
     "data": {
      "text/plain": [
       "array([3, 1, 7])"
      ]
     },
     "execution_count": 36,
     "metadata": {},
     "output_type": "execute_result"
    }
   ],
   "source": [
    "np.random.randint(1,10,3)"
   ]
  },
  {
   "cell_type": "code",
   "execution_count": 37,
   "id": "7356d823-2d3c-428c-a52a-9acbc8dcc21d",
   "metadata": {},
   "outputs": [
    {
     "data": {
      "text/plain": [
       "array([25, 71, 10, 43,  4, 95, 42, 60, 50, 79])"
      ]
     },
     "execution_count": 37,
     "metadata": {},
     "output_type": "execute_result"
    }
   ],
   "source": [
    "np.random.randint(1,100,10)"
   ]
  },
  {
   "cell_type": "code",
   "execution_count": 38,
   "id": "83811841-9003-41ac-b81c-6d34086bd30c",
   "metadata": {},
   "outputs": [],
   "source": [
    "#numpy arrays methods"
   ]
  },
  {
   "cell_type": "code",
   "execution_count": 39,
   "id": "c08e3f6d-37fb-4b6b-902f-de31704a667a",
   "metadata": {},
   "outputs": [],
   "source": [
    "my_numpy_list = np.arange(0,20)"
   ]
  },
  {
   "cell_type": "code",
   "execution_count": 40,
   "id": "17f8d578-e8f9-4a94-a84e-4be06ed1a909",
   "metadata": {},
   "outputs": [
    {
     "data": {
      "text/plain": [
       "array([ 0,  1,  2,  3,  4,  5,  6,  7,  8,  9, 10, 11, 12, 13, 14, 15, 16,\n",
       "       17, 18, 19])"
      ]
     },
     "execution_count": 40,
     "metadata": {},
     "output_type": "execute_result"
    }
   ],
   "source": [
    "my_numpy_list"
   ]
  },
  {
   "cell_type": "code",
   "execution_count": 41,
   "id": "3f675945-24ec-4193-9014-188a50ef91cc",
   "metadata": {},
   "outputs": [
    {
     "data": {
      "text/plain": [
       "4"
      ]
     },
     "execution_count": 41,
     "metadata": {},
     "output_type": "execute_result"
    }
   ],
   "source": [
    "my_numpy_list[4]"
   ]
  },
  {
   "cell_type": "code",
   "execution_count": 42,
   "id": "92290798-1917-4916-a057-298c971f5522",
   "metadata": {},
   "outputs": [
    {
     "data": {
      "text/plain": [
       "array([4, 5, 6, 7, 8])"
      ]
     },
     "execution_count": 42,
     "metadata": {},
     "output_type": "execute_result"
    }
   ],
   "source": [
    "my_numpy_list[4:9]"
   ]
  },
  {
   "cell_type": "code",
   "execution_count": 43,
   "id": "1590c547-938e-487d-b451-c4b08799085a",
   "metadata": {},
   "outputs": [
    {
     "data": {
      "text/plain": [
       "array([4, 6, 8])"
      ]
     },
     "execution_count": 43,
     "metadata": {},
     "output_type": "execute_result"
    }
   ],
   "source": [
    "my_numpy_list[4:9:2]"
   ]
  },
  {
   "cell_type": "code",
   "execution_count": 44,
   "id": "c5b55bca-63b0-42b9-a473-7024d534694d",
   "metadata": {},
   "outputs": [],
   "source": [
    "my_list = list(range(0,20))"
   ]
  },
  {
   "cell_type": "code",
   "execution_count": 45,
   "id": "1bb55c84-70d0-45c6-80ef-d138ce8be36b",
   "metadata": {},
   "outputs": [
    {
     "data": {
      "text/plain": [
       "[0, 1, 2, 3, 4, 5, 6, 7, 8, 9, 10, 11, 12, 13, 14, 15, 16, 17, 18, 19]"
      ]
     },
     "execution_count": 45,
     "metadata": {},
     "output_type": "execute_result"
    }
   ],
   "source": [
    "my_list"
   ]
  },
  {
   "cell_type": "code",
   "execution_count": 46,
   "id": "2cd97974-1917-4580-b982-eaad4ae5f86c",
   "metadata": {},
   "outputs": [
    {
     "data": {
      "text/plain": [
       "[4, 6, 8]"
      ]
     },
     "execution_count": 46,
     "metadata": {},
     "output_type": "execute_result"
    }
   ],
   "source": [
    "my_list[4:9:2]"
   ]
  },
  {
   "cell_type": "code",
   "execution_count": 47,
   "id": "078d586b-3030-4fd6-964b-8d898c897596",
   "metadata": {},
   "outputs": [],
   "source": [
    "#my_list[4:9] = 10"
   ]
  },
  {
   "cell_type": "code",
   "execution_count": 48,
   "id": "9a93c894-3d45-41ad-b891-94cbf3f79ba7",
   "metadata": {},
   "outputs": [
    {
     "data": {
      "text/plain": [
       "array([ 0,  1,  2,  3,  4,  5,  6,  7,  8,  9, 10, 11, 12, 13, 14, 15, 16,\n",
       "       17, 18, 19])"
      ]
     },
     "execution_count": 48,
     "metadata": {},
     "output_type": "execute_result"
    }
   ],
   "source": [
    "my_numpy_list"
   ]
  },
  {
   "cell_type": "code",
   "execution_count": 49,
   "id": "b425fa69-8de9-43c3-a8aa-ab43e036161f",
   "metadata": {},
   "outputs": [],
   "source": [
    "my_numpy_list[4:9] = -10 "
   ]
  },
  {
   "cell_type": "code",
   "execution_count": 50,
   "id": "86cbae1a-87e6-4b48-aa8c-ccf9d4a3882f",
   "metadata": {},
   "outputs": [
    {
     "data": {
      "text/plain": [
       "array([  0,   1,   2,   3, -10, -10, -10, -10, -10,   9,  10,  11,  12,\n",
       "        13,  14,  15,  16,  17,  18,  19])"
      ]
     },
     "execution_count": 50,
     "metadata": {},
     "output_type": "execute_result"
    }
   ],
   "source": [
    "my_numpy_list"
   ]
  },
  {
   "cell_type": "code",
   "execution_count": 51,
   "id": "2732e611-cd08-4576-bb49-deb3df932389",
   "metadata": {},
   "outputs": [],
   "source": [
    "other_list = np.arange(0,15)"
   ]
  },
  {
   "cell_type": "code",
   "execution_count": 52,
   "id": "b035ac7a-2a10-46dc-87d9-b1c587063d0e",
   "metadata": {},
   "outputs": [
    {
     "data": {
      "text/plain": [
       "array([ 0,  1,  2,  3,  4,  5,  6,  7,  8,  9, 10, 11, 12, 13, 14])"
      ]
     },
     "execution_count": 52,
     "metadata": {},
     "output_type": "execute_result"
    }
   ],
   "source": [
    "other_list"
   ]
  },
  {
   "cell_type": "code",
   "execution_count": 53,
   "id": "fe88ea83-3b5b-4a92-b098-bc11902e4e16",
   "metadata": {},
   "outputs": [
    {
     "data": {
      "text/plain": [
       "array([4, 5, 6, 7, 8, 9])"
      ]
     },
     "execution_count": 53,
     "metadata": {},
     "output_type": "execute_result"
    }
   ],
   "source": [
    "other_list[4:10]"
   ]
  },
  {
   "cell_type": "code",
   "execution_count": 54,
   "id": "876fda82-f2f0-42a1-a2a5-1c618604593d",
   "metadata": {},
   "outputs": [],
   "source": [
    "slicing_list = other_list[4:10]"
   ]
  },
  {
   "cell_type": "code",
   "execution_count": 55,
   "id": "06275e9f-07a5-4197-9a00-4c26ac1f0e27",
   "metadata": {},
   "outputs": [
    {
     "data": {
      "text/plain": [
       "array([4, 5, 6, 7, 8, 9])"
      ]
     },
     "execution_count": 55,
     "metadata": {},
     "output_type": "execute_result"
    }
   ],
   "source": [
    "slicing_list"
   ]
  },
  {
   "cell_type": "code",
   "execution_count": 56,
   "id": "57b1932b-a77b-4e7f-be7b-09b7e89b5ed2",
   "metadata": {},
   "outputs": [
    {
     "data": {
      "text/plain": [
       "array([ 0,  1,  2,  3,  4,  5,  6,  7,  8,  9, 10, 11, 12, 13, 14])"
      ]
     },
     "execution_count": 56,
     "metadata": {},
     "output_type": "execute_result"
    }
   ],
   "source": [
    "other_list"
   ]
  },
  {
   "cell_type": "code",
   "execution_count": 57,
   "id": "0d91c174-c291-4a0a-82e0-dc14c4f1246b",
   "metadata": {},
   "outputs": [
    {
     "data": {
      "text/plain": [
       "4"
      ]
     },
     "execution_count": 57,
     "metadata": {},
     "output_type": "execute_result"
    }
   ],
   "source": [
    " slicing_list[0]"
   ]
  },
  {
   "cell_type": "code",
   "execution_count": 58,
   "id": "3aecedf3-f689-4221-ae91-f2b44eab7e63",
   "metadata": {},
   "outputs": [],
   "source": [
    " slicing_list[:] = 100"
   ]
  },
  {
   "cell_type": "code",
   "execution_count": 59,
   "id": "55e93a33-15a1-49d6-b4df-071009d2b9ed",
   "metadata": {},
   "outputs": [
    {
     "data": {
      "text/plain": [
       "array([100, 100, 100, 100, 100, 100])"
      ]
     },
     "execution_count": 59,
     "metadata": {},
     "output_type": "execute_result"
    }
   ],
   "source": [
    "slicing_list"
   ]
  },
  {
   "cell_type": "code",
   "execution_count": 60,
   "id": "5a137290-3a82-49c1-b4ac-74bc1bce48ad",
   "metadata": {},
   "outputs": [
    {
     "data": {
      "text/plain": [
       "array([  0,   1,   2,   3, 100, 100, 100, 100, 100, 100,  10,  11,  12,\n",
       "        13,  14])"
      ]
     },
     "execution_count": 60,
     "metadata": {},
     "output_type": "execute_result"
    }
   ],
   "source": [
    "other_list"
   ]
  },
  {
   "cell_type": "code",
   "execution_count": 61,
   "id": "46f007f8-cb94-4898-af4f-1a4bc844c1be",
   "metadata": {},
   "outputs": [
    {
     "data": {
      "text/plain": [
       "[0, 1, 2, 3, 4, 5, 6, 7, 8, 9, 10, 11, 12, 13, 14, 15, 16, 17, 18, 19]"
      ]
     },
     "execution_count": 61,
     "metadata": {},
     "output_type": "execute_result"
    }
   ],
   "source": [
    "my_list"
   ]
  },
  {
   "cell_type": "code",
   "execution_count": 62,
   "id": "3d27a427-2bd6-43e6-8eba-e0aa10240eb4",
   "metadata": {},
   "outputs": [],
   "source": [
    "slicing_my_list = my_list[4:9]"
   ]
  },
  {
   "cell_type": "code",
   "execution_count": 63,
   "id": "9b1f4be7-e55d-4447-a971-5d8cc065b9d3",
   "metadata": {},
   "outputs": [
    {
     "data": {
      "text/plain": [
       "[4, 5, 6, 7, 8]"
      ]
     },
     "execution_count": 63,
     "metadata": {},
     "output_type": "execute_result"
    }
   ],
   "source": [
    "slicing_my_list"
   ]
  },
  {
   "cell_type": "code",
   "execution_count": 64,
   "id": "873a153d-963b-4268-bc32-24a9d499efa7",
   "metadata": {},
   "outputs": [],
   "source": [
    "slicing_my_list[0] = -100"
   ]
  },
  {
   "cell_type": "code",
   "execution_count": 65,
   "id": "fb94f17e-ec3e-49e9-805b-b0b9d96c42a7",
   "metadata": {},
   "outputs": [],
   "source": [
    "slicing_my_list[1] = -100"
   ]
  },
  {
   "cell_type": "code",
   "execution_count": 66,
   "id": "df1b138a-4bb7-4169-a752-3e01143c5639",
   "metadata": {},
   "outputs": [
    {
     "data": {
      "text/plain": [
       "[-100, -100, 6, 7, 8]"
      ]
     },
     "execution_count": 66,
     "metadata": {},
     "output_type": "execute_result"
    }
   ],
   "source": [
    "slicing_my_list"
   ]
  },
  {
   "cell_type": "code",
   "execution_count": 67,
   "id": "78f8962a-9361-45f1-a5ab-7a6fc29a6e24",
   "metadata": {},
   "outputs": [
    {
     "data": {
      "text/plain": [
       "[0, 1, 2, 3, 4, 5, 6, 7, 8, 9, 10, 11, 12, 13, 14, 15, 16, 17, 18, 19]"
      ]
     },
     "execution_count": 67,
     "metadata": {},
     "output_type": "execute_result"
    }
   ],
   "source": [
    "my_list"
   ]
  },
  {
   "cell_type": "code",
   "execution_count": 68,
   "id": "96e6bce7-2799-4040-b069-d935ff7a3fd1",
   "metadata": {},
   "outputs": [],
   "source": [
    "numpy_list_3 = np.arange(0,20)"
   ]
  },
  {
   "cell_type": "code",
   "execution_count": 69,
   "id": "a52fa146-886a-4823-b79d-61462df55a92",
   "metadata": {},
   "outputs": [
    {
     "data": {
      "text/plain": [
       "array([ 0,  1,  2,  3,  4,  5,  6,  7,  8,  9, 10, 11, 12, 13, 14, 15, 16,\n",
       "       17, 18, 19])"
      ]
     },
     "execution_count": 69,
     "metadata": {},
     "output_type": "execute_result"
    }
   ],
   "source": [
    "numpy_list_3"
   ]
  },
  {
   "cell_type": "code",
   "execution_count": 70,
   "id": "8feb9514-17fe-453c-8031-7bc3b7d45e19",
   "metadata": {},
   "outputs": [],
   "source": [
    "numpy_list_3_copy = numpy_list_3.copy()"
   ]
  },
  {
   "cell_type": "code",
   "execution_count": 71,
   "id": "65174aa7-69bd-4f5b-b056-863c8e88a3be",
   "metadata": {},
   "outputs": [
    {
     "data": {
      "text/plain": [
       "array([ 0,  1,  2,  3,  4,  5,  6,  7,  8,  9, 10, 11, 12, 13, 14, 15, 16,\n",
       "       17, 18, 19])"
      ]
     },
     "execution_count": 71,
     "metadata": {},
     "output_type": "execute_result"
    }
   ],
   "source": [
    "numpy_list_3_copy"
   ]
  },
  {
   "cell_type": "code",
   "execution_count": 72,
   "id": "ddf8e2e9-d8aa-4c28-9325-2ede3c05472a",
   "metadata": {},
   "outputs": [],
   "source": [
    "slicing_3 = numpy_list_3_copy[4:9]"
   ]
  },
  {
   "cell_type": "code",
   "execution_count": 73,
   "id": "4d01c51c-3264-465b-a235-c9adf97dc269",
   "metadata": {},
   "outputs": [
    {
     "data": {
      "text/plain": [
       "array([4, 5, 6, 7, 8])"
      ]
     },
     "execution_count": 73,
     "metadata": {},
     "output_type": "execute_result"
    }
   ],
   "source": [
    "slicing_3"
   ]
  },
  {
   "cell_type": "code",
   "execution_count": 74,
   "id": "77d7e02e-5b74-4a51-b16f-b08090f7de1f",
   "metadata": {},
   "outputs": [],
   "source": [
    "slicing_3[:] = -100"
   ]
  },
  {
   "cell_type": "code",
   "execution_count": 75,
   "id": "f154fc89-b8d0-4ec8-9857-386d8eecc5e3",
   "metadata": {},
   "outputs": [
    {
     "data": {
      "text/plain": [
       "array([-100, -100, -100, -100, -100])"
      ]
     },
     "execution_count": 75,
     "metadata": {},
     "output_type": "execute_result"
    }
   ],
   "source": [
    "slicing_3"
   ]
  },
  {
   "cell_type": "code",
   "execution_count": 76,
   "id": "f02bac01-de00-40c2-9f35-b0b9fe50f2eb",
   "metadata": {},
   "outputs": [
    {
     "data": {
      "text/plain": [
       "array([   0,    1,    2,    3, -100, -100, -100, -100, -100,    9,   10,\n",
       "         11,   12,   13,   14,   15,   16,   17,   18,   19])"
      ]
     },
     "execution_count": 76,
     "metadata": {},
     "output_type": "execute_result"
    }
   ],
   "source": [
    "numpy_list_3_copy"
   ]
  },
  {
   "cell_type": "code",
   "execution_count": 77,
   "id": "5b7d6271-f9e1-4e03-af4f-a1220d4e5423",
   "metadata": {},
   "outputs": [
    {
     "data": {
      "text/plain": [
       "array([ 0,  1,  2,  3,  4,  5,  6,  7,  8,  9, 10, 11, 12, 13, 14, 15, 16,\n",
       "       17, 18, 19])"
      ]
     },
     "execution_count": 77,
     "metadata": {},
     "output_type": "execute_result"
    }
   ],
   "source": [
    "numpy_list_3"
   ]
  },
  {
   "cell_type": "code",
   "execution_count": 78,
   "id": "68f07609-9e81-4649-9aa1-8f4489bb85c5",
   "metadata": {},
   "outputs": [],
   "source": [
    "#numpy operations with numpy arrays"
   ]
  },
  {
   "cell_type": "code",
   "execution_count": 79,
   "id": "57c893b6-fc6a-480e-8ed2-6e020dc59687",
   "metadata": {},
   "outputs": [],
   "source": [
    "new_array = np.random.randint(1,150,25)"
   ]
  },
  {
   "cell_type": "code",
   "execution_count": 80,
   "id": "df0b0e76-f16e-4ed1-83e4-5e19db803ab7",
   "metadata": {},
   "outputs": [
    {
     "data": {
      "text/plain": [
       "array([131, 101,  35,  20,  11,  20, 146,   4,   2,  76,  62,  61,  93,\n",
       "        46,  28,  59,   3,  61,  14, 139,  20,  66,  15,  59, 126])"
      ]
     },
     "execution_count": 80,
     "metadata": {},
     "output_type": "execute_result"
    }
   ],
   "source": [
    "new_array"
   ]
  },
  {
   "cell_type": "code",
   "execution_count": 81,
   "id": "8c99ea22-d15c-4c24-a290-8d7c765ef5cc",
   "metadata": {},
   "outputs": [
    {
     "data": {
      "text/plain": [
       "array([ True,  True, False, False, False, False,  True, False, False,\n",
       "        True,  True,  True,  True, False, False,  True, False,  True,\n",
       "       False,  True, False,  True, False,  True,  True])"
      ]
     },
     "execution_count": 81,
     "metadata": {},
     "output_type": "execute_result"
    }
   ],
   "source": [
    "new_array > 50"
   ]
  },
  {
   "cell_type": "code",
   "execution_count": 82,
   "id": "f20913bc-93af-4463-9c9d-4c394a9f5ef3",
   "metadata": {},
   "outputs": [],
   "source": [
    "result_array = new_array > 50"
   ]
  },
  {
   "cell_type": "code",
   "execution_count": 83,
   "id": "be3fad64-e6d8-47db-bda3-9a0855b281fb",
   "metadata": {},
   "outputs": [
    {
     "data": {
      "text/plain": [
       "array([ True,  True, False, False, False, False,  True, False, False,\n",
       "        True,  True,  True,  True, False, False,  True, False,  True,\n",
       "       False,  True, False,  True, False,  True,  True])"
      ]
     },
     "execution_count": 83,
     "metadata": {},
     "output_type": "execute_result"
    }
   ],
   "source": [
    "result_array"
   ]
  },
  {
   "cell_type": "code",
   "execution_count": 84,
   "id": "5f6fb2d2-2854-44a6-85f3-687019c7be46",
   "metadata": {},
   "outputs": [
    {
     "data": {
      "text/plain": [
       "array([131, 101,  35,  20,  11,  20, 146,   4,   2,  76,  62,  61,  93,\n",
       "        46,  28,  59,   3,  61,  14, 139,  20,  66,  15,  59, 126])"
      ]
     },
     "execution_count": 84,
     "metadata": {},
     "output_type": "execute_result"
    }
   ],
   "source": [
    "new_array"
   ]
  },
  {
   "cell_type": "code",
   "execution_count": 85,
   "id": "1867504c-f7ce-428a-a41f-beda9a23fca4",
   "metadata": {},
   "outputs": [
    {
     "data": {
      "text/plain": [
       "array([131, 101, 146,  76,  62,  61,  93,  59,  61, 139,  66,  59, 126])"
      ]
     },
     "execution_count": 85,
     "metadata": {},
     "output_type": "execute_result"
    }
   ],
   "source": [
    "new_array[result_array]"
   ]
  },
  {
   "cell_type": "code",
   "execution_count": 86,
   "id": "2272bd0b-28c6-48a6-b96a-065261eed2c5",
   "metadata": {},
   "outputs": [],
   "source": [
    "last_array = np.arange(0,30)"
   ]
  },
  {
   "cell_type": "code",
   "execution_count": 87,
   "id": "5669a192-1c87-4327-930a-d3fec6f0713e",
   "metadata": {},
   "outputs": [
    {
     "data": {
      "text/plain": [
       "array([ 0,  1,  2,  3,  4,  5,  6,  7,  8,  9, 10, 11, 12, 13, 14, 15, 16,\n",
       "       17, 18, 19, 20, 21, 22, 23, 24, 25, 26, 27, 28, 29])"
      ]
     },
     "execution_count": 87,
     "metadata": {},
     "output_type": "execute_result"
    }
   ],
   "source": [
    "last_array"
   ]
  },
  {
   "cell_type": "code",
   "execution_count": 88,
   "id": "27918075-09f4-4b38-a4d6-48db89442a76",
   "metadata": {},
   "outputs": [
    {
     "data": {
      "text/plain": [
       "array([ 0,  2,  4,  6,  8, 10, 12, 14, 16, 18, 20, 22, 24, 26, 28, 30, 32,\n",
       "       34, 36, 38, 40, 42, 44, 46, 48, 50, 52, 54, 56, 58])"
      ]
     },
     "execution_count": 88,
     "metadata": {},
     "output_type": "execute_result"
    }
   ],
   "source": [
    "last_array + last_array"
   ]
  },
  {
   "cell_type": "code",
   "execution_count": 89,
   "id": "31b020d4-f32d-4445-951d-1a747cfe5d57",
   "metadata": {},
   "outputs": [
    {
     "data": {
      "text/plain": [
       "array([  0,   1,   4,   9,  16,  25,  36,  49,  64,  81, 100, 121, 144,\n",
       "       169, 196, 225, 256, 289, 324, 361, 400, 441, 484, 529, 576, 625,\n",
       "       676, 729, 784, 841])"
      ]
     },
     "execution_count": 89,
     "metadata": {},
     "output_type": "execute_result"
    }
   ],
   "source": [
    "last_array * last_array"
   ]
  },
  {
   "cell_type": "code",
   "execution_count": 90,
   "id": "d7f33cee-e261-49da-a61d-808d6863ece3",
   "metadata": {},
   "outputs": [
    {
     "data": {
      "text/plain": [
       "array([0, 0, 0, 0, 0, 0, 0, 0, 0, 0, 0, 0, 0, 0, 0, 0, 0, 0, 0, 0, 0, 0,\n",
       "       0, 0, 0, 0, 0, 0, 0, 0])"
      ]
     },
     "execution_count": 90,
     "metadata": {},
     "output_type": "execute_result"
    }
   ],
   "source": [
    "last_array - last_array"
   ]
  },
  {
   "cell_type": "code",
   "execution_count": 91,
   "id": "2eaf1de2-2476-4cf1-ab87-7c9aa73a05db",
   "metadata": {},
   "outputs": [
    {
     "name": "stderr",
     "output_type": "stream",
     "text": [
      "C:\\Users\\Mustafa\\AppData\\Local\\Temp\\ipykernel_16496\\3398326563.py:1: RuntimeWarning: invalid value encountered in divide\n",
      "  last_array / last_array\n"
     ]
    },
    {
     "data": {
      "text/plain": [
       "array([nan,  1.,  1.,  1.,  1.,  1.,  1.,  1.,  1.,  1.,  1.,  1.,  1.,\n",
       "        1.,  1.,  1.,  1.,  1.,  1.,  1.,  1.,  1.,  1.,  1.,  1.,  1.,\n",
       "        1.,  1.,  1.,  1.])"
      ]
     },
     "execution_count": 91,
     "metadata": {},
     "output_type": "execute_result"
    }
   ],
   "source": [
    "last_array / last_array"
   ]
  },
  {
   "cell_type": "code",
   "execution_count": 92,
   "id": "51b3c867-de4d-4285-a99b-8d68f01cdfe8",
   "metadata": {},
   "outputs": [
    {
     "data": {
      "text/plain": [
       "29"
      ]
     },
     "execution_count": 92,
     "metadata": {},
     "output_type": "execute_result"
    }
   ],
   "source": [
    "last_array.max()"
   ]
  },
  {
   "cell_type": "code",
   "execution_count": 93,
   "id": "c415249d-5fa1-4979-9b5c-3b06ad59b7a2",
   "metadata": {},
   "outputs": [
    {
     "data": {
      "text/plain": [
       "array([ 0,  1,  2,  3,  4,  5,  6,  7,  8,  9, 10, 11, 12, 13, 14, 15, 16,\n",
       "       17, 18, 19, 20, 21, 22, 23, 24, 25, 26, 27, 28, 29])"
      ]
     },
     "execution_count": 93,
     "metadata": {},
     "output_type": "execute_result"
    }
   ],
   "source": [
    "last_array"
   ]
  },
  {
   "cell_type": "code",
   "execution_count": 94,
   "id": "ec23d7aa-adbb-4260-9d0e-f2f1e1206d0e",
   "metadata": {},
   "outputs": [
    {
     "data": {
      "text/plain": [
       "29"
      ]
     },
     "execution_count": 94,
     "metadata": {},
     "output_type": "execute_result"
    }
   ],
   "source": [
    "np.max(last_array)"
   ]
  },
  {
   "cell_type": "code",
   "execution_count": 95,
   "id": "be16fa3a-84fa-470d-96ce-9563c69a2243",
   "metadata": {},
   "outputs": [
    {
     "data": {
      "text/plain": [
       "14.5"
      ]
     },
     "execution_count": 95,
     "metadata": {},
     "output_type": "execute_result"
    }
   ],
   "source": [
    "np.mean(last_array)"
   ]
  },
  {
   "cell_type": "code",
   "execution_count": 96,
   "id": "8cceb3b2-77a5-498c-989c-80af3be237c8",
   "metadata": {},
   "outputs": [
    {
     "data": {
      "text/plain": [
       "array([0.        , 1.        , 1.41421356, 1.73205081, 2.        ,\n",
       "       2.23606798, 2.44948974, 2.64575131, 2.82842712, 3.        ,\n",
       "       3.16227766, 3.31662479, 3.46410162, 3.60555128, 3.74165739,\n",
       "       3.87298335, 4.        , 4.12310563, 4.24264069, 4.35889894,\n",
       "       4.47213595, 4.58257569, 4.69041576, 4.79583152, 4.89897949,\n",
       "       5.        , 5.09901951, 5.19615242, 5.29150262, 5.38516481])"
      ]
     },
     "execution_count": 96,
     "metadata": {},
     "output_type": "execute_result"
    }
   ],
   "source": [
    "np.sqrt(last_array)"
   ]
  }
 ],
 "metadata": {
  "kernelspec": {
   "display_name": "Python 3 (ipykernel)",
   "language": "python",
   "name": "python3"
  },
  "language_info": {
   "codemirror_mode": {
    "name": "ipython",
    "version": 3
   },
   "file_extension": ".py",
   "mimetype": "text/x-python",
   "name": "python",
   "nbconvert_exporter": "python",
   "pygments_lexer": "ipython3",
   "version": "3.12.7"
  }
 },
 "nbformat": 4,
 "nbformat_minor": 5
}
